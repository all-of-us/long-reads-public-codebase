{
 "cells": [
  {
   "cell_type": "code",
   "execution_count": 2,
   "metadata": {},
   "outputs": [
    {
     "name": "stdout",
     "output_type": "stream",
     "text": [
      "/home/jupyter/AoU_DRC_WGS_LongReads_PacBio/edit/ym\n"
     ]
    }
   ],
   "source": [
    "%cd ym"
   ]
  },
  {
   "cell_type": "code",
   "execution_count": 7,
   "metadata": {},
   "outputs": [
    {
     "name": "stdout",
     "output_type": "stream",
     "text": [
      "Copying gs://fc-secure-fd873afb-038d-44ed-b113-623c141cb95f/releases/sv_integration/T2T/v1/concat_annotated.sens_09.vcf.gz...\n",
      "- [1 files][941.8 MiB/941.8 MiB]   43.1 MiB/s                                   \n",
      "Operation completed over 1 objects/941.8 MiB.                                    \n",
      "Copying gs://fc-secure-fd873afb-038d-44ed-b113-623c141cb95f/releases/sv_integration/T2T/v1/concat_annotated.sens_07.vcf.gz...\n",
      "| [1 files][556.5 MiB/556.5 MiB]   43.0 MiB/s                                   \n",
      "Operation completed over 1 objects/556.5 MiB.                                    \n"
     ]
    }
   ],
   "source": [
    "# download merged callsets\n",
    "!gsutil cp gs://fc-secure-fd873afb-038d-44ed-b113-623c141cb95f/releases/sv_integration/T2T/v1/concat_annotated.sens_09.vcf.gz .\n",
    "!gsutil cp gs://fc-secure-fd873afb-038d-44ed-b113-623c141cb95f/releases/sv_integration/T2T/v1/concat_annotated.sens_07.vcf.gz ."
   ]
  },
  {
   "cell_type": "code",
   "execution_count": 9,
   "metadata": {},
   "outputs": [],
   "source": [
    "!mv concat_annotated.sens_07.vcf.gz concat_annotated.sens_07.T2T.vcf.gz\n",
    "!mv concat_annotated.sens_09.vcf.gz concat_annotated.sens_09.T2T.vcf.gz"
   ]
  },
  {
   "cell_type": "code",
   "execution_count": 10,
   "metadata": {},
   "outputs": [
    {
     "name": "stdout",
     "output_type": "stream",
     "text": [
      "Copying gs://fc-secure-fd873afb-038d-44ed-b113-623c141cb95f/releases/sv_integration/GRCh38/v1/concat_annotated.sens_09.vcf.gz...\n",
      "- [1 files][732.3 MiB/732.3 MiB]   42.4 MiB/s                                   \n",
      "Operation completed over 1 objects/732.3 MiB.                                    \n",
      "Copying gs://fc-secure-fd873afb-038d-44ed-b113-623c141cb95f/releases/sv_integration/GRCh38/v1/concat_annotated.sens_07.vcf.gz...\n",
      "/ [1 files][451.2 MiB/451.2 MiB]   45.8 MiB/s                                   \n",
      "Operation completed over 1 objects/451.2 MiB.                                    \n"
     ]
    }
   ],
   "source": [
    "# download merged callsets\n",
    "!gsutil cp gs://fc-secure-fd873afb-038d-44ed-b113-623c141cb95f/releases/sv_integration/GRCh38/v1/concat_annotated.sens_09.vcf.gz .\n",
    "!gsutil cp gs://fc-secure-fd873afb-038d-44ed-b113-623c141cb95f/releases/sv_integration/GRCh38/v1/concat_annotated.sens_07.vcf.gz ."
   ]
  },
  {
   "cell_type": "code",
   "execution_count": 4,
   "metadata": {},
   "outputs": [],
   "source": [
    "# UNK-->INV for LR file (fixing known issue in truvari anno svinfo)\n",
    "from pysam import VariantFile\n",
    "\n",
    "def unk_to_inv(vcf_in_filename, vcf_out_filename):\n",
    "    vcf_in = VariantFile(vcf_in_filename)\n",
    "    vcf_out = VariantFile(vcf_out_filename, 'w', header=vcf_in.header)\n",
    "\n",
    "    for rec in vcf_in.fetch():\n",
    "        if rec.info['SVTYPE']=='UNK':\n",
    "            rec.info['SVTYPE']='INV'\n",
    "        vcf_out.write(rec) # write every variant"
   ]
  },
  {
   "cell_type": "code",
   "execution_count": 5,
   "metadata": {},
   "outputs": [
    {
     "name": "stdout",
     "output_type": "stream",
     "text": [
      "ERROR! Session/line number was not unique in database. History logging moved to new session 37\n"
     ]
    },
    {
     "name": "stderr",
     "output_type": "stream",
     "text": [
      "[E::idx_find_and_load] Could not retrieve index file for 'concat_annotated.sens_09.vcf.gz'\n"
     ]
    }
   ],
   "source": [
    "# run UNK-->INV\n",
    "# this is a little silly, I could just do the replace afterwards - this takes SO LONG with the huge VCF\n",
    "unk_to_inv(\"concat_annotated.sens_09.vcf.gz\",\"concat_annotated.sens_09.unk_to_inv.vcf\")\n",
    "!bcftools view -Oz concat_annotated.sens_09.unk_to_inv.vcf > concat_annotated.sens_09.unk_to_inv.vcf.gz\n",
    "!tabix concat_annotated.sens_09.unk_to_inv.vcf.gz\n",
    "!rm concat_annotated.sens_09.unk_to_inv.vcf"
   ]
  },
  {
   "cell_type": "code",
   "execution_count": 7,
   "metadata": {},
   "outputs": [],
   "source": [
    "!bcftools query -f \"%SVTYPE\\n\" concat_annotated.sens_09.unk_to_inv.vcf.gz | sort | uniq -c |awk 'OFS=\"\\t\" {print $2,$1}' > tpr09_whole_cohort_count_by_svtype"
   ]
  },
  {
   "cell_type": "code",
   "execution_count": 15,
   "metadata": {},
   "outputs": [],
   "source": [
    "!bcftools query -f \"%SVTYPE\\n\" concat_annotated.sens_07.vcf.gz | sort | uniq -c |awk 'OFS=\"\\t\" {print $2,$1}' > tpr07_whole_cohort_count_by_svtype"
   ]
  },
  {
   "cell_type": "code",
   "execution_count": 16,
   "metadata": {},
   "outputs": [
    {
     "name": "stdout",
     "output_type": "stream",
     "text": [
      "-rw-rw-r-- 1 jupyter users 30 Jun  2 02:09 tpr07_whole_cohort_count_by_svtype\r\n",
      "-rw-rw-r-- 1 jupyter users 32 Jun  2 02:08 tpr09_T2T_whole_cohort_count_by_svtype\r\n",
      "-rw-rw-r-- 1 jupyter users 30 Jun  2 01:59 tpr07_T2T_whole_cohort_count_by_svtype\r\n",
      "-rw-rw-r-- 1 jupyter users 31 May 30 19:15 tpr09_whole_cohort_count_by_svtype\r\n"
     ]
    }
   ],
   "source": [
    "!ls -lht *whole_cohort_count_by_svtype"
   ]
  },
  {
   "cell_type": "code",
   "execution_count": 8,
   "metadata": {},
   "outputs": [
    {
     "name": "stdout",
     "output_type": "stream",
     "text": [
      "DEL\t279385\r\n",
      "INS\t934491\r\n",
      "INV\t1684\r\n"
     ]
    }
   ],
   "source": [
    "!head tpr09_whole_cohort_count_by_svtype"
   ]
  },
  {
   "cell_type": "code",
   "execution_count": 9,
   "metadata": {},
   "outputs": [],
   "source": [
    "!bcftools view -Oz concat_annotated.sens_09.unk_to_inv.vcf.gz chr1:1000000-5000000 > test_small.vcf.gz"
   ]
  },
  {
   "cell_type": "code",
   "execution_count": 20,
   "metadata": {},
   "outputs": [],
   "source": [
    "# per-sample counts by svtype\n",
    "from pysam import VariantFile\n",
    "import sys\n",
    "\n",
    "def calls_per_sample(vcf_in_filename, outfile):\n",
    "    vcf_in = VariantFile(vcf_in_filename)\n",
    "    outfile = open(outfile,'w')\n",
    "    \n",
    "    samples = list(vcf_in.header.samples)\n",
    "    \n",
    "    sample_counts = {}\n",
    "    for sample in samples:\n",
    "        sample_counts[sample] = {'total':0, 'INS':0,'DEL':0,'UNK':0}\n",
    "    \n",
    "    chrom=None\n",
    "    for rec in vcf_in.fetch():\n",
    "        if rec.chrom != chrom: # just a status update because this is so slow\n",
    "            chrom = rec.chrom\n",
    "            sys.stderr.write(\"%s\\n\" % chrom)\n",
    "        svtype = rec.info['SVTYPE']\n",
    "        for i in range(0,len(samples)):\n",
    "            sample = samples[i]\n",
    "            if 1 in rec.samples[sample]['GT']:\n",
    "                sample_counts[sample]['total']+=1\n",
    "                sample_counts[sample][svtype] +=1\n",
    "\n",
    "    for sample in sample_counts:\n",
    "        outfile.write(\"%s\\t%d\\t%d\\t%d\\t%d\\n\" % (sample, sample_counts[sample]['total'], \n",
    "                              sample_counts[sample]['INS'],\n",
    "                              sample_counts[sample]['DEL'],\n",
    "                              sample_counts[sample]['UNK']))\n",
    "    outfile.close()"
   ]
  },
  {
   "cell_type": "code",
   "execution_count": null,
   "metadata": {},
   "outputs": [
    {
     "name": "stderr",
     "output_type": "stream",
     "text": [
      "[E::idx_find_and_load] Could not retrieve index file for 'concat_annotated.sens_09.T2T.vcf.gz'\n",
      "chr1\n",
      "chr2\n",
      "chr3\n",
      "chr4\n"
     ]
    }
   ],
   "source": [
    "calls_per_sample(\"concat_annotated.sens_09.T2T.vcf.gz\", \"counts_per_genome_by_svtype_09_T2T\")"
   ]
  },
  {
   "cell_type": "code",
   "execution_count": 59,
   "metadata": {},
   "outputs": [],
   "source": [
    "!bcftools view -h concat_annotated.sens_09.unk_to_inv.vcf.gz|tail -n1|cut -f10- | sed 's/\\t/\\n/g' |head -n1027 > samples"
   ]
  },
  {
   "cell_type": "code",
   "execution_count": 60,
   "metadata": {},
   "outputs": [
    {
     "name": "stdout",
     "output_type": "stream",
     "text": [
      "^C\r\n"
     ]
    }
   ],
   "source": [
    "# do the python code above but in a bcftools one-liner - I think this will be faster? actually maybe the other way is faster\n",
    "!rm counts_per_genome_by_svtype\n",
    "!while read sample; do echo -n \"$sample\"$'\\t' >> counts_per_genome_by_svtype; bcftools query -i 'GT==\"alt\"' -f '%SVTYPE\\n' -s $sample concat_annotated.sens_09.unk_to_inv.vcf.gz|sort|uniq -c |awk -v RS=\"INV\" '{print $1+$3+$5\"\\t\"$1\"\\t\"$3\"\\t\"$5}' | head -n1 >> counts_per_genome_by_svtype; done < samples "
   ]
  },
  {
   "cell_type": "code",
   "execution_count": 55,
   "metadata": {},
   "outputs": [
    {
     "name": "stdout",
     "output_type": "stream",
     "text": [
      "105\t26133\t10580\t15515\t38\n",
      "2568\t1050\t1515\t3\n",
      "0\t\t\t\n"
     ]
    }
   ],
   "source": [
    "#!echo \"10580 DEL\" > tmp\n",
    "#!echo \"15515 INS\" >> tmp\n",
    "#!echo \"38 INV\" >> tmp\n",
    "#!echo \"1050 DEL\" >> tmp\n",
    "#!echo \"1515 INS\" >> tmp\n",
    "#!echo \"3 INV\" >> tmp\n",
    "!sample=105;echo -n \"$sample\"$'\\t'\n",
    "!awk -v RS=\"INV\" '{print $1+$3+$5\"\\t\"$1\"\\t\"$3\"\\t\"$5}' tmp"
   ]
  },
  {
   "cell_type": "code",
   "execution_count": 13,
   "metadata": {},
   "outputs": [
    {
     "name": "stdout",
     "output_type": "stream",
     "text": [
      "1000151\t180\t99\t81\t0\r\n",
      "1000513\t175\t103\t72\t0\r\n",
      "1000920\t181\t121\t60\t0\r\n",
      "1001399\t186\t114\t72\t0\r\n",
      "1001980\t150\t103\t47\t0\r\n",
      "1002322\t187\t115\t72\t0\r\n",
      "1002826\t170\t106\t64\t0\r\n",
      "1004266\t167\t111\t56\t0\r\n",
      "1005038\t154\t94\t60\t0\r\n",
      "1005444\t177\t112\t65\t0\r\n"
     ]
    }
   ],
   "source": [
    "!head test_small_counts_per_genome_by_svtype"
   ]
  },
  {
   "cell_type": "code",
   "execution_count": 6,
   "metadata": {},
   "outputs": [],
   "source": [
    "!bcftools query -f '%SVTYPE\\t%SVLEN\\n' concat_annotated.sens_09.unk_to_inv.vcf.gz > tpr09_whole_cohort_length_by_svtype"
   ]
  }
 ],
 "metadata": {
  "kernelspec": {
   "display_name": "Python 3",
   "language": "python",
   "name": "python3"
  },
  "language_info": {
   "codemirror_mode": {
    "name": "ipython",
    "version": 3
   },
   "file_extension": ".py",
   "mimetype": "text/x-python",
   "name": "python",
   "nbconvert_exporter": "python",
   "pygments_lexer": "ipython3",
   "version": "3.10.12"
  },
  "toc": {
   "base_numbering": 1,
   "nav_menu": {},
   "number_sections": true,
   "sideBar": true,
   "skip_h1_title": false,
   "title_cell": "Table of Contents",
   "title_sidebar": "Contents",
   "toc_cell": false,
   "toc_position": {},
   "toc_section_display": true,
   "toc_window_display": false
  }
 },
 "nbformat": 4,
 "nbformat_minor": 2
}
