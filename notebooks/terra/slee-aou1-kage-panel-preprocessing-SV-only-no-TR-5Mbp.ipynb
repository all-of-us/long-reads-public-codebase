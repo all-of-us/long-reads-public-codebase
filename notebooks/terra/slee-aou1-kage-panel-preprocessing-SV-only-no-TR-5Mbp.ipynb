{
 "cells": [
  {
   "cell_type": "code",
   "execution_count": 1,
   "metadata": {},
   "outputs": [
    {
     "name": "stdout",
     "output_type": "stream",
     "text": [
      "bcftools 1.18\r\n",
      "Using htslib 1.18\r\n",
      "Copyright (C) 2023 Genome Research Ltd.\r\n",
      "License Expat: The MIT/Expat license\r\n",
      "This is free software: you are free to change and redistribute it.\r\n",
      "There is NO WARRANTY, to the extent permitted by law.\r\n"
     ]
    }
   ],
   "source": [
    "! bcftools -v"
   ]
  },
  {
   "cell_type": "code",
   "execution_count": 2,
   "metadata": {},
   "outputs": [],
   "source": [
    "working_dir = '/home/jupyter/AoU1-v1'\n",
    "output_prefix = 'chr1'\n",
    "\n",
    "# ! mkdir -p {working_dir}/hiphase-outputs\n",
    "# ! gsutil cp 'gs://fc-secure-f7d80b48-be60-426f-aa6b-f037a1bf7f34/outputs/HPRC_8X/T2T/Phasing/Hybridphasing/{output_prefix}_*bcf' {working_dir}/hiphase-outputs\n",
    "\n",
    "hiphase_snp_indel_bcf = f'{working_dir}/hiphase-outputs/{output_prefix}_scaffold.bcf'\n",
    "hiphase_sv_bcf = f'{working_dir}/hiphase-outputs/{output_prefix}_finalsv_scaffold.bcf'\n",
    "\n",
    "hiphase_snp_indel_vcf_gz = f'{working_dir}/hiphase-outputs/{output_prefix}_scaffold.vcf.gz'\n",
    "hiphase_sv_vcf_gz = f'{working_dir}/hiphase-outputs/{output_prefix}_finalsv_scaffold.vcf.gz'\n",
    "\n",
    "# ! bcftools view {hiphase_snp_indel_bcf} -Oz -o {hiphase_snp_indel_vcf_gz}\n",
    "# ! bcftools index -t {hiphase_snp_indel_vcf_gz}\n",
    "# ! bcftools view {hiphase_sv_bcf} -Oz -o {hiphase_sv_vcf_gz}\n",
    "# ! bcftools index -t {hiphase_sv_vcf_gz}"
   ]
  },
  {
   "cell_type": "code",
   "execution_count": 3,
   "metadata": {},
   "outputs": [],
   "source": [
    "preprocess_dir = f'{working_dir}/preprocess'\n",
    "! mkdir -p {preprocess_dir}"
   ]
  },
  {
   "cell_type": "code",
   "execution_count": 6,
   "metadata": {},
   "outputs": [],
   "source": [
    "af_threshold = 0.01\n",
    "reg_af_tag = '5Mbp.af_pt01'\n",
    "\n",
    "hiphase_sv_reg_af_vcf_gz = f'{preprocess_dir}/{output_prefix}.sv.{reg_af_tag}.vcf.gz'\n",
    "\n",
    "! bcftools view -r chr1:1-5000000 -i 'AF>={af_threshold}' {hiphase_sv_vcf_gz} \\\n",
    "    -Oz -o {hiphase_sv_reg_af_vcf_gz}\n",
    "! bcftools index -t {hiphase_sv_reg_af_vcf_gz}"
   ]
  },
  {
   "cell_type": "code",
   "execution_count": 9,
   "metadata": {},
   "outputs": [
    {
     "name": "stdout",
     "output_type": "stream",
     "text": [
      "Lines   total/split/realigned/skipped:\t2604/0/0/0\r\n"
     ]
    }
   ],
   "source": [
    "# only SVs and atomize\n",
    "\n",
    "atomize_tag = 'atomize'\n",
    "\n",
    "hiphase_atomize_vcf_gz = f'{preprocess_dir}/{output_prefix}.{reg_af_tag}.{atomize_tag}.vcf.gz'\n",
    "\n",
    "! bcftools norm {hiphase_sv_reg_af_vcf_gz} -a -Oz -o {hiphase_atomize_vcf_gz}"
   ]
  },
  {
   "cell_type": "code",
   "execution_count": 11,
   "metadata": {},
   "outputs": [],
   "source": [
    "# ! gsutil cp gs://fc-secure-f7d80b48-be60-426f-aa6b-f037a1bf7f34/references/T2T/trf.bb.bed {working_dir}/resources\n",
    "    \n",
    "tr_bed = f'{working_dir}/resources/trf.bb.bed'"
   ]
  },
  {
   "cell_type": "code",
   "execution_count": 12,
   "metadata": {},
   "outputs": [],
   "source": [
    "tr_annot_tag = 'tr-annot'\n",
    "hiphase_atomize_tr_annot_vcf_gz = f'{preprocess_dir}/{output_prefix}.{reg_af_tag}.{atomize_tag}.{tr_annot_tag}.vcf.gz'\n",
    "min_overlap = 0.9\n",
    "\n",
    "! bcftools view {hiphase_atomize_vcf_gz} -Ou | \\\n",
    "    bcftools annotate --no-version -a {tr_bed} --min-overlap :{min_overlap} -c CHROM,FROM,TO -m +TR \\\n",
    "    -h <(echo '##INFO=<ID=TR,Number=0,Type=Flag,Description=\"Overlaps TR region with --min-overlap :0.9\">') \\\n",
    "    -Oz -o {hiphase_atomize_tr_annot_vcf_gz}"
   ]
  },
  {
   "cell_type": "code",
   "execution_count": 13,
   "metadata": {},
   "outputs": [],
   "source": [
    "no_tr_tag = 'no-tr'\n",
    "tag = f'{reg_af_tag}.{atomize_tag}.{tr_annot_tag}.{no_tr_tag}'\n",
    "hiphase_preprocessed_vcf_gz = f'{preprocess_dir}/{output_prefix}.{tag}.vcf.gz'\n",
    "\n",
    "! bcftools view -i 'AF>={af_threshold} && TR=0' {hiphase_atomize_tr_annot_vcf_gz} -Oz -o {hiphase_preprocessed_vcf_gz}"
   ]
  },
  {
   "cell_type": "code",
   "execution_count": 14,
   "metadata": {},
   "outputs": [],
   "source": [
    "# v3.1.0 of PanGenie run-from-callset scripts\n",
    "\n",
    "pangenie_scripts_dir = f'{working_dir}/pangenie/pipelines/run-from-callset/scripts'\n",
    "ref_fa = f'{working_dir}/ref/chm13v2.0.ebv.fa'\n",
    "run_from_callset_dir = f'{working_dir}/run-from-callset'\n",
    "\n",
    "! mkdir -p {run_from_callset_dir}"
   ]
  },
  {
   "cell_type": "code",
   "execution_count": 15,
   "metadata": {},
   "outputs": [],
   "source": [
    "# validate_vcf\n",
    "\n",
    "! bcftools norm --check-ref e --fasta-ref {ref_fa} {hiphase_preprocessed_vcf_gz} &> {run_from_callset_dir}/validate-vcf.log"
   ]
  },
  {
   "cell_type": "code",
   "execution_count": 16,
   "metadata": {},
   "outputs": [],
   "source": [
    "# prepare_vcf\n",
    "\n",
    "frac_missing = 0.2\n",
    "\n",
    "! bcftools view {hiphase_preprocessed_vcf_gz} | \\\n",
    "    python3 {pangenie_scripts_dir}/prepare-vcf.py --missing {frac_missing} \\\n",
    "    2> {run_from_callset_dir}/{output_prefix}.{tag}.prepare-vcf.log \\\n",
    "    1> {run_from_callset_dir}/{output_prefix}.{tag}.prepare.vcf"
   ]
  },
  {
   "cell_type": "code",
   "execution_count": 17,
   "metadata": {},
   "outputs": [],
   "source": [
    "# add_ids\n",
    "\n",
    "! cat {run_from_callset_dir}/{output_prefix}.{tag}.prepare.vcf | \\\n",
    "    python3 {pangenie_scripts_dir}/add-ids.py \\\n",
    "    2> {run_from_callset_dir}/{output_prefix}.{tag}.add-ids.log \\\n",
    "    1> {run_from_callset_dir}/{output_prefix}.{tag}.prepare.id.vcf"
   ]
  },
  {
   "cell_type": "code",
   "execution_count": 18,
   "metadata": {},
   "outputs": [],
   "source": [
    "# normalize\n",
    "\n",
    "! bcftools norm -m- {run_from_callset_dir}/{output_prefix}.{tag}.prepare.id.vcf \\\n",
    "    --threads $(nproc) \\\n",
    "    2> {run_from_callset_dir}/{output_prefix}.{tag}.normalize.log \\\n",
    "    1> {run_from_callset_dir}/{output_prefix}.{tag}.prepare.id.split.vcf"
   ]
  },
  {
   "cell_type": "code",
   "execution_count": 19,
   "metadata": {},
   "outputs": [],
   "source": [
    "# merge_haplotypes\n",
    "\n",
    "! python3 {pangenie_scripts_dir}/merge_vcfs.py merge \\\n",
    "    -vcf {run_from_callset_dir}/{output_prefix}.{tag}.prepare.id.split.vcf \\\n",
    "    -r {ref_fa} \\\n",
    "    -ploidy 2  \\\n",
    "    2> {run_from_callset_dir}/{output_prefix}.{tag}.merge-haplotypes.log \\\n",
    "    1> {run_from_callset_dir}/{output_prefix}.{tag}.prepare.id.split.mergehap.vcf"
   ]
  },
  {
   "cell_type": "code",
   "execution_count": 20,
   "metadata": {},
   "outputs": [
    {
     "name": "stdout",
     "output_type": "stream",
     "text": [
      "[W::vcf_parse] Contig 'chr1' is not defined in the header. (Quick workaround: index the file with tabix.)\r\n"
     ]
    }
   ],
   "source": [
    "! bcftools view {run_from_callset_dir}/{output_prefix}.{tag}.prepare.id.split.mergehap.vcf \\\n",
    "    -Oz -o {run_from_callset_dir}/{output_prefix}.{tag}.prepare.id.split.mergehap.vcf.gz\n",
    "! bcftools index -t {run_from_callset_dir}/{output_prefix}.{tag}.prepare.id.split.mergehap.vcf.gz"
   ]
  },
  {
   "cell_type": "code",
   "execution_count": 21,
   "metadata": {},
   "outputs": [],
   "source": [
    "# convert_back_biallelic_representation (pop bubbles and convert back to biallelic)\n",
    "\n",
    "! bcftools view {run_from_callset_dir}/{output_prefix}.{tag}.prepare.id.split.mergehap.vcf.gz | \\\n",
    "    python3 {pangenie_scripts_dir}/convert-to-biallelic-no-gq.py {run_from_callset_dir}/{output_prefix}.{tag}.prepare.id.vcf \\\n",
    "    > {run_from_callset_dir}/{output_prefix}.{tag}.prepare.id.split.mergehap.unmergehap.vcf"
   ]
  },
  {
   "cell_type": "code",
   "execution_count": 22,
   "metadata": {},
   "outputs": [
    {
     "name": "stdout",
     "output_type": "stream",
     "text": [
      "[W::vcf_parse_format] FORMAT 'GQ' at chr1:1668 is not defined in the header, assuming Type=String\r\n"
     ]
    }
   ],
   "source": [
    "! bcftools view {run_from_callset_dir}/{output_prefix}.{tag}.prepare.id.split.mergehap.unmergehap.vcf \\\n",
    "    -Oz -o {run_from_callset_dir}/{output_prefix}.{tag}.prepare.id.split.mergehap.unmergehap.vcf.gz\n",
    "! bcftools index -t {run_from_callset_dir}/{output_prefix}.{tag}.prepare.id.split.mergehap.unmergehap.vcf.gz"
   ]
  },
  {
   "cell_type": "code",
   "execution_count": null,
   "metadata": {},
   "outputs": [],
   "source": [
    "! "
   ]
  }
 ],
 "metadata": {
  "kernelspec": {
   "display_name": "Python 3",
   "language": "python",
   "name": "python3"
  },
  "language_info": {
   "codemirror_mode": {
    "name": "ipython",
    "version": 3
   },
   "file_extension": ".py",
   "mimetype": "text/x-python",
   "name": "python",
   "nbconvert_exporter": "python",
   "pygments_lexer": "ipython3",
   "version": "3.10.12"
  },
  "toc": {
   "base_numbering": 1,
   "nav_menu": {},
   "number_sections": true,
   "sideBar": true,
   "skip_h1_title": false,
   "title_cell": "Table of Contents",
   "title_sidebar": "Contents",
   "toc_cell": false,
   "toc_position": {},
   "toc_section_display": true,
   "toc_window_display": false
  }
 },
 "nbformat": 4,
 "nbformat_minor": 2
}
