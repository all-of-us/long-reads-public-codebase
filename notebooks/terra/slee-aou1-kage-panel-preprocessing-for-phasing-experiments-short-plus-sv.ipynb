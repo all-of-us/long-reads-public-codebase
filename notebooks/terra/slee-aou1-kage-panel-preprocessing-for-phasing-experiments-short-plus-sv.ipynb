{
 "cells": [
  {
   "cell_type": "code",
   "execution_count": 1,
   "metadata": {},
   "outputs": [
    {
     "name": "stdout",
     "output_type": "stream",
     "text": [
      "bcftools 1.18\r\n",
      "Using htslib 1.18\r\n",
      "Copyright (C) 2023 Genome Research Ltd.\r\n",
      "License Expat: The MIT/Expat license\r\n",
      "This is free software: you are free to change and redistribute it.\r\n",
      "There is NO WARRANTY, to the extent permitted by law.\r\n"
     ]
    }
   ],
   "source": [
    "! bcftools -v"
   ]
  },
  {
   "cell_type": "code",
   "execution_count": 1,
   "metadata": {},
   "outputs": [
    {
     "name": "stdout",
     "output_type": "stream",
     "text": [
      "Copying gs://fc-secure-f7d80b48-be60-426f-aa6b-f037a1bf7f34/submissions/b9624542-d7d2-497d-89b3-1d927a0a4302/HybridPhase/6f593bd8-a318-4ae1-8b7f-8c82269c7f21/call-Shapeit4scaffold/chr1:100000000-110000000_scaffold.bcf...\n",
      "- [1 files][ 21.6 MiB/ 21.6 MiB]                                                \n",
      "Operation completed over 1 objects/21.6 MiB.                                     \n"
     ]
    }
   ],
   "source": [
    "# run_tag = 'baseline-kanpig'\n",
    "# run_tag = 'missing-lt-pt05-mac-gte-2'\n",
    "# run_tag = 'baseline-kanpig'\n",
    "# run_tag = 'missing-lt-pt05-mac-gte-2-kanpig'\n",
    "# run_tag = 'baseline-short-plus-sv-kanpig'\n",
    "# run_tag = 'baseline-short-plus-sv-mac-gte-2-kanpig' # mac-gte-2 filter not applied yet!\n",
    "run_tag = 'short-plus-kanpig-sv-hiphase-mac-gte-2-shapeit'\n",
    "working_dir = f'/home/jupyter/AoU1-v1/preprocess-for-phasing/{run_tag}'\n",
    "output_prefix = 'chr1_100-110Mbp'\n",
    "\n",
    "! mkdir -p {working_dir}/phased-outputs\n",
    "# ! gsutil cp 'gs://fc-secure-f7d80b48-be60-426f-aa6b-f037a1bf7f34/scratch/phasing/{run_tag}/*.bcf' {working_dir}/hiphase-outputs\n",
    "# ! gsutil cp 'gs://fc-secure-f7d80b48-be60-426f-aa6b-f037a1bf7f34/scratch/phasing_kanpig/{run_tag}/*.bcf' {working_dir}/hiphase-outputs\n",
    "# ! gsutil cp 'gs://fc-secure-f7d80b48-be60-426f-aa6b-f037a1bf7f34/scratch/phasing_kanpig/{run_tag}/*.bcf' {working_dir}/phased-outputs\n",
    "! gsutil cp 'gs://fc-secure-f7d80b48-be60-426f-aa6b-f037a1bf7f34/submissions/b9624542-d7d2-497d-89b3-1d927a0a4302/HybridPhase/6f593bd8-a318-4ae1-8b7f-8c82269c7f21/call-Shapeit4scaffold/*.bcf' {working_dir}/phased-outputs\n",
    "\n",
    "phased_bcf = f'{working_dir}/phased-outputs/chr1:100000000-110000000_scaffold.bcf'\n",
    "\n",
    "phased_vcf_gz = f'{working_dir}/phased-outputs/{output_prefix}.{run_tag}.phased.vcf.gz'\n",
    "\n",
    "! bcftools view {phased_bcf} -Oz -o {phased_vcf_gz}\n",
    "! bcftools index -t {phased_vcf_gz}"
   ]
  },
  {
   "cell_type": "code",
   "execution_count": 2,
   "metadata": {},
   "outputs": [],
   "source": [
    "preprocess_dir = f'{working_dir}/pangenie-preprocess'\n",
    "! mkdir -p {preprocess_dir}"
   ]
  },
  {
   "cell_type": "code",
   "execution_count": 3,
   "metadata": {},
   "outputs": [
    {
     "name": "stdout",
     "output_type": "stream",
     "text": [
      "Lines   total/split/realigned/skipped:\t160575/0/0/0\r\n"
     ]
    }
   ],
   "source": [
    "# atomize SNP/indels\n",
    "\n",
    "atomize_tag = 'atomize'\n",
    "\n",
    "atomize_vcf_gz = f'{preprocess_dir}/{output_prefix}.{atomize_tag}.vcf.gz'\n",
    "\n",
    "! bcftools norm -a {phased_vcf_gz} -Oz -o {atomize_vcf_gz}"
   ]
  },
  {
   "cell_type": "code",
   "execution_count": 4,
   "metadata": {},
   "outputs": [],
   "source": [
    "# ! gsutil cp gs://fc-secure-f7d80b48-be60-426f-aa6b-f037a1bf7f34/references/T2T/trf.bb.bed {working_dir}/resources\n",
    "    \n",
    "# tr_bed = f'{working_dir}/resources/trf.bb.bed'"
   ]
  },
  {
   "cell_type": "code",
   "execution_count": 5,
   "metadata": {},
   "outputs": [],
   "source": [
    "# tr_annot_tag = 'tr-annot'\n",
    "# hiphase_concat_tr_annot_vcf_gz = f'{preprocess_dir}/{output_prefix}.{reg_af_tag}.{concat_tag}.{tr_annot_tag}.vcf.gz'\n",
    "# min_overlap = 0.9\n",
    "\n",
    "# ! bcftools view {hiphase_concat_vcf_gz} -Ou | \\\n",
    "#     bcftools annotate --no-version -a {tr_bed} --min-overlap :{min_overlap} -c CHROM,FROM,TO -m +TR \\\n",
    "#     -h <(echo '##INFO=<ID=TR,Number=0,Type=Flag,Description=\"Overlaps TR region with --min-overlap :0.9\">') \\\n",
    "#     -Oz -o {hiphase_concat_tr_annot_vcf_gz}"
   ]
  },
  {
   "cell_type": "code",
   "execution_count": 6,
   "metadata": {},
   "outputs": [],
   "source": [
    "# no_tr_tag = 'no-tr'\n",
    "# tag = f'{reg_af_tag}.{concat_tag}.{tr_annot_tag}.{no_tr_tag}'\n",
    "# hiphase_preprocessed_vcf_gz = f'{preprocess_dir}/{output_prefix}.{tag}.vcf.gz'\n",
    "\n",
    "# ! bcftools view -i 'AF>={af_threshold} && TR=0' {hiphase_concat_tr_annot_vcf_gz} -Oz -o {hiphase_preprocessed_vcf_gz}"
   ]
  },
  {
   "cell_type": "code",
   "execution_count": 7,
   "metadata": {},
   "outputs": [],
   "source": [
    "tag = f'{atomize_tag}' #.{tr_annot_tag}.{no_tr_tag}\n",
    "preprocessed_vcf_gz = f'{preprocess_dir}/{output_prefix}.{tag}.vcf.gz'"
   ]
  },
  {
   "cell_type": "code",
   "execution_count": 8,
   "metadata": {},
   "outputs": [],
   "source": [
    "# v3.1.0 of PanGenie run-from-callset scripts\n",
    "\n",
    "pangenie_scripts_dir = f'/home/jupyter/AoU1-v1/pangenie/pipelines/run-from-callset/scripts'\n",
    "ref_fa = f'/home/jupyter/AoU1-v1/ref/GCA_000001405.15_GRCh38_no_alt_analysis_set.fa' #chm13v2.0.ebv.fa'\n",
    "run_from_callset_dir = f'{working_dir}/run-from-callset'\n",
    "\n",
    "! mkdir -p {run_from_callset_dir}"
   ]
  },
  {
   "cell_type": "code",
   "execution_count": 9,
   "metadata": {},
   "outputs": [],
   "source": [
    "# validate_vcf\n",
    "\n",
    "! bcftools norm --check-ref e --fasta-ref {ref_fa} {preprocessed_vcf_gz} &> {run_from_callset_dir}/validate-vcf.log"
   ]
  },
  {
   "cell_type": "code",
   "execution_count": 10,
   "metadata": {},
   "outputs": [],
   "source": [
    "# prepare_vcf\n",
    "\n",
    "frac_missing = 0.2\n",
    "\n",
    "! bcftools view {preprocessed_vcf_gz} | \\\n",
    "    python3 {pangenie_scripts_dir}/prepare-vcf.py --missing {frac_missing} \\\n",
    "    2> {run_from_callset_dir}/{output_prefix}.{tag}.prepare-vcf.log \\\n",
    "    1> {run_from_callset_dir}/{output_prefix}.{tag}.prepare.vcf"
   ]
  },
  {
   "cell_type": "code",
   "execution_count": 11,
   "metadata": {},
   "outputs": [],
   "source": [
    "# add_ids\n",
    "\n",
    "! cat {run_from_callset_dir}/{output_prefix}.{tag}.prepare.vcf | \\\n",
    "    python3 {pangenie_scripts_dir}/add-ids.py \\\n",
    "    2> {run_from_callset_dir}/{output_prefix}.{tag}.add-ids.log \\\n",
    "    1> {run_from_callset_dir}/{output_prefix}.{tag}.prepare.id.vcf"
   ]
  },
  {
   "cell_type": "code",
   "execution_count": 12,
   "metadata": {},
   "outputs": [],
   "source": [
    "# normalize\n",
    "\n",
    "! bcftools norm -m- {run_from_callset_dir}/{output_prefix}.{tag}.prepare.id.vcf \\\n",
    "    --threads $(nproc) \\\n",
    "    2> {run_from_callset_dir}/{output_prefix}.{tag}.normalize.log \\\n",
    "    1> {run_from_callset_dir}/{output_prefix}.{tag}.prepare.id.split.vcf"
   ]
  },
  {
   "cell_type": "code",
   "execution_count": 13,
   "metadata": {},
   "outputs": [],
   "source": [
    "# merge_haplotypes\n",
    "\n",
    "! python3 {pangenie_scripts_dir}/merge_vcfs.py merge \\\n",
    "    -vcf {run_from_callset_dir}/{output_prefix}.{tag}.prepare.id.split.vcf \\\n",
    "    -r {ref_fa} \\\n",
    "    -ploidy 2  \\\n",
    "    2> {run_from_callset_dir}/{output_prefix}.{tag}.merge-haplotypes.log \\\n",
    "    1> {run_from_callset_dir}/{output_prefix}.{tag}.prepare.id.split.mergehap.vcf"
   ]
  },
  {
   "cell_type": "code",
   "execution_count": 14,
   "metadata": {},
   "outputs": [
    {
     "name": "stdout",
     "output_type": "stream",
     "text": [
      "[W::vcf_parse] Contig 'chr1' is not defined in the header. (Quick workaround: index the file with tabix.)\r\n"
     ]
    }
   ],
   "source": [
    "! bcftools view {run_from_callset_dir}/{output_prefix}.{tag}.prepare.id.split.mergehap.vcf \\\n",
    "    -Oz -o {run_from_callset_dir}/{output_prefix}.{tag}.prepare.id.split.mergehap.vcf.gz\n",
    "! bcftools index -t {run_from_callset_dir}/{output_prefix}.{tag}.prepare.id.split.mergehap.vcf.gz"
   ]
  },
  {
   "cell_type": "code",
   "execution_count": 15,
   "metadata": {},
   "outputs": [
    {
     "name": "stdout",
     "output_type": "stream",
     "text": [
      "Copying file:///home/jupyter/AoU1-v1/preprocess-for-phasing/short-plus-kanpig-sv-hiphase-mac-gte-2-shapeit/run-from-callset/chr1_100-110Mbp.atomize.prepare.id.split.mergehap.vcf.gz [Content-Type=text/vcard]...\n",
      "Copying file:///home/jupyter/AoU1-v1/preprocess-for-phasing/short-plus-kanpig-sv-hiphase-mac-gte-2-shapeit/run-from-callset/chr1_100-110Mbp.atomize.prepare.id.split.mergehap.vcf.gz.tbi [Content-Type=application/octet-stream]...\n",
      "- [2 files][ 28.8 MiB/ 28.8 MiB]                                                \n",
      "Operation completed over 2 objects/28.8 MiB.                                     \n"
     ]
    }
   ],
   "source": [
    "# ! gsutil cp {run_from_callset_dir}/{output_prefix}.{tag}.prepare.id.split.mergehap.vcf.gz* gs://fc-secure-f7d80b48-be60-426f-aa6b-f037a1bf7f34/scratch/phasing/{run_tag}/\n",
    "! gsutil cp {run_from_callset_dir}/{output_prefix}.{tag}.prepare.id.split.mergehap.vcf.gz* gs://fc-secure-f7d80b48-be60-426f-aa6b-f037a1bf7f34/scratch/phasing_kanpig/{run_tag}/"
   ]
  },
  {
   "cell_type": "code",
   "execution_count": 34,
   "metadata": {},
   "outputs": [],
   "source": [
    "# # convert_back_biallelic_representation (pop bubbles and convert back to biallelic)\n",
    "\n",
    "# ! bcftools view {run_from_callset_dir}/{output_prefix}.{tag}.prepare.id.split.mergehap.vcf.gz | \\\n",
    "#     python3 {pangenie_scripts_dir}/convert-to-biallelic-no-gq.py {run_from_callset_dir}/{output_prefix}.{tag}.prepare.id.vcf \\\n",
    "#     > {run_from_callset_dir}/{output_prefix}.{tag}.prepare.id.split.mergehap.unmergehap.vcf"
   ]
  },
  {
   "cell_type": "code",
   "execution_count": 35,
   "metadata": {},
   "outputs": [],
   "source": [
    "# ! bcftools view {run_from_callset_dir}/{output_prefix}.{tag}.prepare.id.split.mergehap.unmergehap.vcf \\\n",
    "#     -Oz -o {run_from_callset_dir}/{output_prefix}.{tag}.prepare.id.split.mergehap.unmergehap.vcf.gz\n",
    "# ! bcftools index -t {run_from_callset_dir}/{output_prefix}.{tag}.prepare.id.split.mergehap.unmergehap.vcf.gz"
   ]
  },
  {
   "cell_type": "code",
   "execution_count": null,
   "metadata": {},
   "outputs": [],
   "source": []
  }
 ],
 "metadata": {
  "kernelspec": {
   "display_name": "Python 3",
   "language": "python",
   "name": "python3"
  },
  "language_info": {
   "codemirror_mode": {
    "name": "ipython",
    "version": 3
   },
   "file_extension": ".py",
   "mimetype": "text/x-python",
   "name": "python",
   "nbconvert_exporter": "python",
   "pygments_lexer": "ipython3",
   "version": "3.10.12"
  },
  "toc": {
   "base_numbering": 1,
   "nav_menu": {},
   "number_sections": true,
   "sideBar": true,
   "skip_h1_title": false,
   "title_cell": "Table of Contents",
   "title_sidebar": "Contents",
   "toc_cell": false,
   "toc_position": {},
   "toc_section_display": true,
   "toc_window_display": false
  }
 },
 "nbformat": 4,
 "nbformat_minor": 2
}
