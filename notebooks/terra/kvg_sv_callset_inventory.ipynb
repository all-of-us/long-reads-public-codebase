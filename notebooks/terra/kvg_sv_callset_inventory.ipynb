{
 "cells": [
  {
   "cell_type": "markdown",
   "metadata": {},
   "source": [
    "<b>Author:</b> ...\n",
    "\n",
    "<b>Contributors:</b> ...\n",
    "\n",
    "\n",
    "<div class=\"alert alert-block alert-info\">\n",
    "Before you start running this notebook, make sure you are using the Hail Genomics Analysis Environment. To do so,\n",
    "<br/>\n",
    "    \n",
    "<ul>\n",
    "    <li>Click on the <b>cloud analysis environment</b> icon on the righthand side of the screen.</li>\n",
    "    <li>Inside <b>Recommended environments</b>, select <b>Hail Genomics Analysis</b> which creates a cloud environment for your analyses.</li>\n",
    "    <li>This analysis can be run with <b>low compute</b> (e.g. 2 workers with 4 CPUs, 15 GB of RAM).</li>\n",
    "    <li>Click on <b>Next</b>.</li>\n",
    "</ul>\n",
    "    \n",
    "</div>\n",
    "\n",
    "<h1>Notebook Objectives</h1>\n",
    "\n",
    "This notebook shows where the BAM files and manifest are, how to localize the manifest or a known BAM to your workspace bucket and active environment, and how to use the manifest to localize BAMs by the included paths.\n",
    "\n",
    "<b>How to Use this Notebook...</b>\n",
    "\n",
    "<b>As a tutorial:</b>\n",
    "\n",
    "...\n",
    "\n",
    "<b>As a resource:</b>\n",
    "\n",
    "...\n",
    "\n",
    "<h2>Relevant Information:</h2>\n",
    "\n",
    "..."
   ]
  },
  {
   "cell_type": "code",
   "execution_count": null,
   "metadata": {},
   "outputs": [],
   "source": []
  }
 ],
 "metadata": {
  "kernelspec": {
   "display_name": "Python 3",
   "language": "python",
   "name": "python3"
  },
  "language_info": {
   "codemirror_mode": {
    "name": "ipython",
    "version": 3
   },
   "file_extension": ".py",
   "mimetype": "text/x-python",
   "name": "python",
   "nbconvert_exporter": "python",
   "pygments_lexer": "ipython3",
   "version": "3.10.12"
  },
  "toc": {
   "base_numbering": 1,
   "nav_menu": {},
   "number_sections": true,
   "sideBar": true,
   "skip_h1_title": false,
   "title_cell": "Table of Contents",
   "title_sidebar": "Contents",
   "toc_cell": false,
   "toc_position": {},
   "toc_section_display": true,
   "toc_window_display": false
  }
 },
 "nbformat": 4,
 "nbformat_minor": 2
}
