{
 "cells": [
  {
   "cell_type": "code",
   "execution_count": 1,
   "metadata": {},
   "outputs": [
    {
     "name": "stdout",
     "output_type": "stream",
     "text": [
      "bcftools 1.18\r\n",
      "Using htslib 1.18\r\n",
      "Copyright (C) 2023 Genome Research Ltd.\r\n",
      "License Expat: The MIT/Expat license\r\n",
      "This is free software: you are free to change and redistribute it.\r\n",
      "There is NO WARRANTY, to the extent permitted by law.\r\n"
     ]
    }
   ],
   "source": [
    "! bcftools -v"
   ]
  },
  {
   "cell_type": "code",
   "execution_count": 2,
   "metadata": {},
   "outputs": [
    {
     "name": "stdout",
     "output_type": "stream",
     "text": [
      "Copying gs://fc-secure-f7d80b48-be60-426f-aa6b-f037a1bf7f34/outputs/HPRC_8X/T2T/Phasing/Hybridphasing/chr1_finalsv_scaffold.bcf...\n",
      "Copying gs://fc-secure-f7d80b48-be60-426f-aa6b-f037a1bf7f34/outputs/HPRC_8X/T2T/Phasing/Hybridphasing/chr1_scaffold.bcf...\n",
      "| [2 files][499.5 MiB/499.5 MiB]                                                \n",
      "Operation completed over 2 objects/499.5 MiB.                                    \n"
     ]
    }
   ],
   "source": [
    "working_dir = '/home/jupyter/AoU1-v1'\n",
    "output_prefix = 'chr1'\n",
    "\n",
    "# ! mkdir -p {working_dir}/hiphase-outputs\n",
    "# ! gsutil cp 'gs://fc-secure-f7d80b48-be60-426f-aa6b-f037a1bf7f34/outputs/HPRC_8X/T2T/Phasing/Hybridphasing/{output_prefix}_*bcf' {working_dir}/hiphase-outputs\n",
    "\n",
    "hiphase_snp_indel_bcf = f'{working_dir}/hiphase-outputs/{output_prefix}_scaffold.bcf'\n",
    "hiphase_sv_bcf = f'{working_dir}/hiphase-outputs/{output_prefix}_finalsv_scaffold.bcf'\n",
    "\n",
    "hiphase_snp_indel_vcf_gz = f'{working_dir}/hiphase-outputs/{output_prefix}_scaffold.vcf.gz'\n",
    "hiphase_sv_vcf_gz = f'{working_dir}/hiphase-outputs/{output_prefix}_finalsv_scaffold.vcf.gz'\n",
    "\n",
    "# ! bcftools view {hiphase_snp_indel_bcf} -Oz -o {hiphase_snp_indel_vcf_gz}\n",
    "# ! bcftools index -t {hiphase_snp_indel_vcf_gz}\n",
    "# ! bcftools view {hiphase_sv_bcf} -Oz -o {hiphase_sv_vcf_gz}\n",
    "# ! bcftools index -t {hiphase_sv_vcf_gz}"
   ]
  },
  {
   "cell_type": "code",
   "execution_count": 3,
   "metadata": {},
   "outputs": [],
   "source": [
    "preprocess_dir = f'{working_dir}/preprocess'\n",
    "! mkdir -p {preprocess_dir}"
   ]
  },
  {
   "cell_type": "code",
   "execution_count": 15,
   "metadata": {},
   "outputs": [
    {
     "name": "stdout",
     "output_type": "stream",
     "text": [
      "Lines   total/split/realigned/skipped:\t5086893/0/0/0\r\n"
     ]
    }
   ],
   "source": [
    "# only short variants and atomize\n",
    "\n",
    "hiphase_short_atomize_vcf_gz = f'{preprocess_dir}/{output_prefix}.short-atomize.vcf.gz'\n",
    "\n",
    "! bcftools norm {hiphase_snp_indel_vcf_gz} -a -Oz -o {hiphase_short_atomize_vcf_gz}"
   ]
  },
  {
   "cell_type": "code",
   "execution_count": 28,
   "metadata": {},
   "outputs": [],
   "source": [
    "# threshold by AF\n",
    "\n",
    "af_threshold = 0.005\n",
    "af_suffix = 'af_pt005'\n",
    "\n",
    "hiphase_short_atomize_af_vcf_gz = f'{preprocess_dir}/{output_prefix}.short-atomize.{af_suffix}.vcf.gz'\n",
    "\n",
    "! bcftools view -i 'AF>={af_threshold}' {hiphase_short_atomize_vcf_gz} -Oz -o {hiphase_short_atomize_af_vcf_gz}"
   ]
  },
  {
   "cell_type": "code",
   "execution_count": 29,
   "metadata": {},
   "outputs": [],
   "source": [
    "# v3.1.0 of PanGenie run-from-callset scripts\n",
    "\n",
    "pangenie_scripts_dir = f'{working_dir}/pangenie/pipelines/run-from-callset/scripts'\n",
    "ref_fa = f'{working_dir}/ref/chm13v2.0.ebv.fa'\n",
    "run_from_callset_dir = f'{working_dir}/run-from-callset'\n",
    "\n",
    "! mkdir -p {run_from_callset_dir}"
   ]
  },
  {
   "cell_type": "code",
   "execution_count": 30,
   "metadata": {},
   "outputs": [],
   "source": [
    "# validate_vcf\n",
    "\n",
    "! bcftools norm --check-ref e --fasta-ref {ref_fa} {hiphase_short_atomize_af_vcf_gz} &> {run_from_callset_dir}/validate-vcf.log"
   ]
  },
  {
   "cell_type": "code",
   "execution_count": 31,
   "metadata": {},
   "outputs": [],
   "source": [
    "# prepare_vcf\n",
    "\n",
    "frac_missing = 0.2\n",
    "\n",
    "! bcftools view {hiphase_short_atomize_af_vcf_gz} | \\\n",
    "    python3 {pangenie_scripts_dir}/prepare-vcf.py --missing {frac_missing} \\\n",
    "    2> {run_from_callset_dir}/prepare-vcf.log \\\n",
    "    1> {run_from_callset_dir}/{output_prefix}.short-atomize.{af_suffix}.prepare.vcf"
   ]
  },
  {
   "cell_type": "code",
   "execution_count": 32,
   "metadata": {},
   "outputs": [],
   "source": [
    "# add_ids\n",
    "\n",
    "! cat {run_from_callset_dir}/{output_prefix}.short-atomize.{af_suffix}.prepare.vcf | \\\n",
    "    python3 {pangenie_scripts_dir}/add-ids.py \\\n",
    "    2> {run_from_callset_dir}/add-ids.log \\\n",
    "    1> {run_from_callset_dir}/{output_prefix}.short-atomize.{af_suffix}.prepare.id.vcf"
   ]
  },
  {
   "cell_type": "code",
   "execution_count": 33,
   "metadata": {},
   "outputs": [],
   "source": [
    "# normalize\n",
    "\n",
    "! bcftools norm -m- {run_from_callset_dir}/{output_prefix}.short-atomize.{af_suffix}.prepare.id.vcf \\\n",
    "    --threads $(nproc) \\\n",
    "    2> {run_from_callset_dir}/normalize.log \\\n",
    "    1> {run_from_callset_dir}/{output_prefix}.short-atomize.{af_suffix}.prepare.id.split.vcf"
   ]
  },
  {
   "cell_type": "code",
   "execution_count": 34,
   "metadata": {},
   "outputs": [],
   "source": [
    "# merge_haplotypes\n",
    "\n",
    "! python3 {pangenie_scripts_dir}/merge_vcfs.py merge \\\n",
    "    -vcf {run_from_callset_dir}/{output_prefix}.short-atomize.{af_suffix}.prepare.id.split.vcf \\\n",
    "    -r {ref_fa} \\\n",
    "    -ploidy 2  \\\n",
    "    2> {run_from_callset_dir}/merge-haplotypes.log \\\n",
    "    1> {run_from_callset_dir}/{output_prefix}.short-atomize.{af_suffix}.prepare.id.split.mergehap.vcf"
   ]
  },
  {
   "cell_type": "code",
   "execution_count": 35,
   "metadata": {},
   "outputs": [
    {
     "name": "stdout",
     "output_type": "stream",
     "text": [
      "[W::vcf_parse] Contig 'chr1' is not defined in the header. (Quick workaround: index the file with tabix.)\r\n"
     ]
    }
   ],
   "source": [
    "! bcftools view {run_from_callset_dir}/{output_prefix}.short-atomize.{af_suffix}.prepare.id.split.mergehap.vcf \\\n",
    "    -Oz -o {run_from_callset_dir}/{output_prefix}.short-atomize.{af_suffix}.prepare.id.split.mergehap.vcf.gz\n",
    "! bcftools index -t {run_from_callset_dir}/{output_prefix}.short-atomize.{af_suffix}.prepare.id.split.mergehap.vcf.gz"
   ]
  },
  {
   "cell_type": "code",
   "execution_count": 36,
   "metadata": {},
   "outputs": [],
   "source": [
    "# convert_back_biallelic_representation (pop bubbles and convert back to biallelic)\n",
    "\n",
    "! bcftools view {run_from_callset_dir}/{output_prefix}.short-atomize.{af_suffix}.prepare.id.split.mergehap.vcf.gz | \\\n",
    "    python3 {pangenie_scripts_dir}/convert-to-biallelic-no-gq.py {run_from_callset_dir}/{output_prefix}.short-atomize.{af_suffix}.prepare.id.vcf \\\n",
    "    > {run_from_callset_dir}/{output_prefix}.short-atomize.{af_suffix}.prepare.id.split.mergehap.unmergehap.vcf"
   ]
  },
  {
   "cell_type": "code",
   "execution_count": 37,
   "metadata": {},
   "outputs": [
    {
     "name": "stdout",
     "output_type": "stream",
     "text": [
      "[W::vcf_parse_format] FORMAT 'GQ' at chr1:174 is not defined in the header, assuming Type=String\r\n"
     ]
    }
   ],
   "source": [
    "! bcftools view {run_from_callset_dir}/{output_prefix}.short-atomize.{af_suffix}.prepare.id.split.mergehap.unmergehap.vcf \\\n",
    "    -Oz -o {run_from_callset_dir}/{output_prefix}.short-atomize.{af_suffix}.prepare.id.split.mergehap.unmergehap.vcf.gz\n",
    "! bcftools index -t {run_from_callset_dir}/{output_prefix}.short-atomize.{af_suffix}.prepare.id.split.mergehap.unmergehap.vcf.gz"
   ]
  },
  {
   "cell_type": "code",
   "execution_count": 4,
   "metadata": {},
   "outputs": [],
   "source": [
    "# # try removing SNPs/indels that overlap with SVs first\n",
    "\n",
    "# # threshold by AF first\n",
    "\n",
    "# af_threshold = 0.01\n",
    "\n",
    "# ! bcftools view -i 'AF>={af_threshold}' {hiphase_snp_indel_bcf} \\\n",
    "#     -Oz -o {preprocess_dir}/{output_prefix}.snp_indel.af.vcf.gz\n",
    "# ! bcftools index -t {preprocess_dir}/{output_prefix}.snp_indel.af.vcf.gz\n",
    "\n",
    "# ! bcftools view -i 'AF>={af_threshold}' {hiphase_sv_bcf} \\\n",
    "#     -Oz -o {preprocess_dir}/{output_prefix}.sv.af.vcf.gz\n",
    "# ! bcftools index -t {preprocess_dir}/{output_prefix}.sv.af.vcf.gz"
   ]
  },
  {
   "cell_type": "code",
   "execution_count": 8,
   "metadata": {},
   "outputs": [
    {
     "name": "stdout",
     "output_type": "stream",
     "text": [
      "# SN, Summary numbers:\n",
      "#   number of SNPs      .. number of rows with a SNP\n",
      "#   number of multiallelic SNP sites .. number of rows with multiple alternate alleles, all SNPs\n",
      "#   counter. For example, a row with a SNP and an indel increments both the SNP and\n",
      "# SN\t[2]id\t[3]key\t[4]value\n",
      "SN\t0\tnumber of samples:\t1074\n",
      "SN\t0\tnumber of records:\t6020\n",
      "SN\t0\tnumber of no-ALTs:\t0\n",
      "SN\t0\tnumber of SNPs:\t1307\n",
      "SN\t0\tnumber of MNPs:\t0\n",
      "SN\t0\tnumber of indels:\t4712\n",
      "SN\t0\tnumber of others:\t1\n",
      "SN\t0\tnumber of multiallelic sites:\t0\n",
      "SN\t0\tnumber of multiallelic SNP sites:\t0\n",
      "# SiS\t[2]id\t[3]allele count\t[4]number of SNPs\t[5]number of transitions\t[6]number of transversions\t[7]number of indels\t[8]repeat-consistent\t[9]repeat-inconsistent\t[10]not applicable\n",
      "# AF\t[2]id\t[3]allele frequency\t[4]number of SNPs\t[5]number of transitions\t[6]number of transversions\t[7]number of indels\t[8]repeat-consistent\t[9]repeat-inconsistent\t[10]not applicable\n",
      "# QUAL\t[2]id\t[3]Quality\t[4]number of SNPs\t[5]number of transitions (1st ALT)\t[6]number of transversions (1st ALT)\t[7]number of indels\n",
      "# SN, Summary numbers:\n",
      "#   number of SNPs      .. number of rows with a SNP\n",
      "#   number of multiallelic SNP sites .. number of rows with multiple alternate alleles, all SNPs\n",
      "#   counter. For example, a row with a SNP and an indel increments both the SNP and\n",
      "# SN\t[2]id\t[3]key\t[4]value\n",
      "SN\t0\tnumber of samples:\t1074\n",
      "SN\t0\tnumber of records:\t1964221\n",
      "SN\t0\tnumber of no-ALTs:\t0\n",
      "SN\t0\tnumber of SNPs:\t1548682\n",
      "SN\t0\tnumber of MNPs:\t0\n",
      "SN\t0\tnumber of indels:\t415530\n",
      "SN\t0\tnumber of others:\t9\n",
      "SN\t0\tnumber of multiallelic sites:\t0\n",
      "SN\t0\tnumber of multiallelic SNP sites:\t0\n",
      "# SiS\t[2]id\t[3]allele count\t[4]number of SNPs\t[5]number of transitions\t[6]number of transversions\t[7]number of indels\t[8]repeat-consistent\t[9]repeat-inconsistent\t[10]not applicable\n",
      "# AF\t[2]id\t[3]allele frequency\t[4]number of SNPs\t[5]number of transitions\t[6]number of transversions\t[7]number of indels\t[8]repeat-consistent\t[9]repeat-inconsistent\t[10]not applicable\n",
      "# QUAL\t[2]id\t[3]Quality\t[4]number of SNPs\t[5]number of transitions (1st ALT)\t[6]number of transversions (1st ALT)\t[7]number of indels\n"
     ]
    }
   ],
   "source": [
    "# ! bcftools isec \\\n",
    "#     {preprocess_dir}/{output_prefix}.snp_indel.af.vcf.gz \\\n",
    "#     {preprocess_dir}/{output_prefix}.sv.af.vcf.gz \\\n",
    "#     -n~11 -w1 -c all \\\n",
    "#     -Oz -o {preprocess_dir}/{output_prefix}.snp_indel.af.in_sv.vcf.gz\n",
    "# ! bcftools index -t {preprocess_dir}/{output_prefix}.snp_indel.af.in_sv.vcf.gz\n",
    "# ! bcftools stats {preprocess_dir}/{output_prefix}.snp_indel.af.in_sv.vcf.gz | grep SN\n",
    "\n",
    "# ! bcftools isec \\\n",
    "#     {preprocess_dir}/{output_prefix}.snp_indel.af.vcf.gz \\\n",
    "#     {preprocess_dir}/{output_prefix}.sv.af.vcf.gz \\\n",
    "#     -n~10 -w1 -c all \\\n",
    "#     -Oz -o {preprocess_dir}/{output_prefix}.snp_indel.af.out_sv.vcf.gz\n",
    "# ! bcftools index -t {preprocess_dir}/{output_prefix}.snp_indel.af.out_sv.vcf.gz\n",
    "# ! bcftools stats {preprocess_dir}/{output_prefix}.snp_indel.af.out_sv.vcf.gz | grep SN"
   ]
  }
 ],
 "metadata": {
  "kernelspec": {
   "display_name": "Python 3",
   "language": "python",
   "name": "python3"
  },
  "language_info": {
   "codemirror_mode": {
    "name": "ipython",
    "version": 3
   },
   "file_extension": ".py",
   "mimetype": "text/x-python",
   "name": "python",
   "nbconvert_exporter": "python",
   "pygments_lexer": "ipython3",
   "version": "3.10.12"
  },
  "toc": {
   "base_numbering": 1,
   "nav_menu": {},
   "number_sections": true,
   "sideBar": true,
   "skip_h1_title": false,
   "title_cell": "Table of Contents",
   "title_sidebar": "Contents",
   "toc_cell": false,
   "toc_position": {},
   "toc_section_display": true,
   "toc_window_display": false
  }
 },
 "nbformat": 4,
 "nbformat_minor": 2
}
