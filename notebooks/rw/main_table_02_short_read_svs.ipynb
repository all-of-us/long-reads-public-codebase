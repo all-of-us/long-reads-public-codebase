{
 "cells": [
  {
   "cell_type": "markdown",
   "metadata": {},
   "source": [
    "<b>Author:</b> ...\n",
    "\n",
    "<b>Contributors:</b> ...\n",
    "\n",
    "\n",
    "<div class=\"alert alert-block alert-info\">\n",
    "Before you start running this notebook, make sure you are using the Hail Genomics Analysis Environment. To do so,\n",
    "<br/>\n",
    "    \n",
    "<ul>\n",
    "    <li>Click on the <b>cloud analysis environment</b> icon on the righthand side of the screen.</li>\n",
    "    <li>Inside <b>Recommended environments</b>, select <b>Hail Genomics Analysis</b> which creates a cloud environment for your analyses.</li>\n",
    "    <li>This analysis can be run with <b>low compute</b> (e.g. 2 workers with 4 CPUs, 15 GB of RAM).</li>\n",
    "    <li>Click on <b>Next</b>.</li>\n",
    "</ul>\n",
    "    \n",
    "</div>\n",
    "\n",
    "<h1>Notebook Objectives</h1>\n",
    "\n",
    "This notebook shows where the BAM files and manifest are, how to localize the manifest or a known BAM to your workspace bucket and active environment, and how to use the manifest to localize BAMs by the included paths.\n",
    "\n",
    "<b>How to Use this Notebook...</b>\n",
    "\n",
    "<b>As a tutorial:</b>\n",
    "\n",
    "...\n",
    "\n",
    "<b>As a resource:</b>\n",
    "\n",
    "...\n",
    "\n",
    "<h2>Relevant Information:</h2>\n",
    "\n",
    "..."
   ]
  },
  {
   "cell_type": "code",
   "execution_count": 2,
   "metadata": {},
   "outputs": [
    {
     "data": {
      "application/vnd.jupyter.widget-view+json": {
       "model_id": "b5ee7969b0614d0b9641da306a77a4ae",
       "version_major": 2,
       "version_minor": 0
      },
      "text/plain": [
       "Downloading:   0%|          | 0/989 [00:00<?, ?rows/s]"
      ]
     },
     "metadata": {},
     "output_type": "display_data"
    },
    {
     "data": {
      "text/html": [
       "<div>\n",
       "<style scoped>\n",
       "    .dataframe tbody tr th:only-of-type {\n",
       "        vertical-align: middle;\n",
       "    }\n",
       "\n",
       "    .dataframe tbody tr th {\n",
       "        vertical-align: top;\n",
       "    }\n",
       "\n",
       "    .dataframe thead th {\n",
       "        text-align: right;\n",
       "    }\n",
       "</style>\n",
       "<table border=\"1\" class=\"dataframe\">\n",
       "  <thead>\n",
       "    <tr style=\"text-align: right;\">\n",
       "      <th></th>\n",
       "      <th>person_id</th>\n",
       "      <th>gender_concept_id</th>\n",
       "      <th>gender</th>\n",
       "      <th>date_of_birth</th>\n",
       "      <th>race_concept_id</th>\n",
       "      <th>race</th>\n",
       "      <th>ethnicity_concept_id</th>\n",
       "      <th>ethnicity</th>\n",
       "      <th>sex_at_birth_concept_id</th>\n",
       "      <th>sex_at_birth</th>\n",
       "    </tr>\n",
       "  </thead>\n",
       "  <tbody>\n",
       "    <tr>\n",
       "      <th>0</th>\n",
       "      <td>1904084</td>\n",
       "      <td>45878463</td>\n",
       "      <td>Female</td>\n",
       "      <td>1969-06-15 00:00:00+00:00</td>\n",
       "      <td>8516</td>\n",
       "      <td>Black or African American</td>\n",
       "      <td>38003564</td>\n",
       "      <td>Not Hispanic or Latino</td>\n",
       "      <td>46273637</td>\n",
       "      <td>Intersex</td>\n",
       "    </tr>\n",
       "    <tr>\n",
       "      <th>1</th>\n",
       "      <td>2100229</td>\n",
       "      <td>903096</td>\n",
       "      <td>PMI: Skip</td>\n",
       "      <td>1962-06-15 00:00:00+00:00</td>\n",
       "      <td>903096</td>\n",
       "      <td>PMI: Skip</td>\n",
       "      <td>903096</td>\n",
       "      <td>PMI: Skip</td>\n",
       "      <td>0</td>\n",
       "      <td>No matching concept</td>\n",
       "    </tr>\n",
       "    <tr>\n",
       "      <th>2</th>\n",
       "      <td>1835685</td>\n",
       "      <td>903096</td>\n",
       "      <td>PMI: Skip</td>\n",
       "      <td>1954-06-15 00:00:00+00:00</td>\n",
       "      <td>903096</td>\n",
       "      <td>PMI: Skip</td>\n",
       "      <td>903096</td>\n",
       "      <td>PMI: Skip</td>\n",
       "      <td>0</td>\n",
       "      <td>No matching concept</td>\n",
       "    </tr>\n",
       "    <tr>\n",
       "      <th>3</th>\n",
       "      <td>1938812</td>\n",
       "      <td>903096</td>\n",
       "      <td>PMI: Skip</td>\n",
       "      <td>2000-06-15 00:00:00+00:00</td>\n",
       "      <td>903096</td>\n",
       "      <td>PMI: Skip</td>\n",
       "      <td>903096</td>\n",
       "      <td>PMI: Skip</td>\n",
       "      <td>0</td>\n",
       "      <td>No matching concept</td>\n",
       "    </tr>\n",
       "    <tr>\n",
       "      <th>4</th>\n",
       "      <td>1203311</td>\n",
       "      <td>903096</td>\n",
       "      <td>PMI: Skip</td>\n",
       "      <td>1966-06-15 00:00:00+00:00</td>\n",
       "      <td>903096</td>\n",
       "      <td>PMI: Skip</td>\n",
       "      <td>903096</td>\n",
       "      <td>PMI: Skip</td>\n",
       "      <td>0</td>\n",
       "      <td>No matching concept</td>\n",
       "    </tr>\n",
       "  </tbody>\n",
       "</table>\n",
       "</div>"
      ],
      "text/plain": [
       "   person_id  gender_concept_id     gender             date_of_birth  \\\n",
       "0    1904084           45878463     Female 1969-06-15 00:00:00+00:00   \n",
       "1    2100229             903096  PMI: Skip 1962-06-15 00:00:00+00:00   \n",
       "2    1835685             903096  PMI: Skip 1954-06-15 00:00:00+00:00   \n",
       "3    1938812             903096  PMI: Skip 2000-06-15 00:00:00+00:00   \n",
       "4    1203311             903096  PMI: Skip 1966-06-15 00:00:00+00:00   \n",
       "\n",
       "   race_concept_id                       race  ethnicity_concept_id  \\\n",
       "0             8516  Black or African American              38003564   \n",
       "1           903096                  PMI: Skip                903096   \n",
       "2           903096                  PMI: Skip                903096   \n",
       "3           903096                  PMI: Skip                903096   \n",
       "4           903096                  PMI: Skip                903096   \n",
       "\n",
       "                ethnicity  sex_at_birth_concept_id         sex_at_birth  \n",
       "0  Not Hispanic or Latino                 46273637             Intersex  \n",
       "1               PMI: Skip                        0  No matching concept  \n",
       "2               PMI: Skip                        0  No matching concept  \n",
       "3               PMI: Skip                        0  No matching concept  \n",
       "4               PMI: Skip                        0  No matching concept  "
      ]
     },
     "execution_count": 2,
     "metadata": {},
     "output_type": "execute_result"
    }
   ],
   "source": [
    "import pandas\n",
    "import os\n",
    "\n",
    "# This query represents dataset \"Long reads with short read SVs, basic info\" for domain \"person\" and was generated for All of Us Controlled Tier Dataset v7\n",
    "dataset_51778023_person_sql = \"\"\"\n",
    "    SELECT\n",
    "        person.person_id,\n",
    "        person.gender_concept_id,\n",
    "        p_gender_concept.concept_name as gender,\n",
    "        person.birth_datetime as date_of_birth,\n",
    "        person.race_concept_id,\n",
    "        p_race_concept.concept_name as race,\n",
    "        person.ethnicity_concept_id,\n",
    "        p_ethnicity_concept.concept_name as ethnicity,\n",
    "        person.sex_at_birth_concept_id,\n",
    "        p_sex_at_birth_concept.concept_name as sex_at_birth \n",
    "    FROM\n",
    "        `\"\"\" + os.environ[\"WORKSPACE_CDR\"] + \"\"\".person` person \n",
    "    LEFT JOIN\n",
    "        `\"\"\" + os.environ[\"WORKSPACE_CDR\"] + \"\"\".concept` p_gender_concept \n",
    "            ON person.gender_concept_id = p_gender_concept.concept_id \n",
    "    LEFT JOIN\n",
    "        `\"\"\" + os.environ[\"WORKSPACE_CDR\"] + \"\"\".concept` p_race_concept \n",
    "            ON person.race_concept_id = p_race_concept.concept_id \n",
    "    LEFT JOIN\n",
    "        `\"\"\" + os.environ[\"WORKSPACE_CDR\"] + \"\"\".concept` p_ethnicity_concept \n",
    "            ON person.ethnicity_concept_id = p_ethnicity_concept.concept_id \n",
    "    LEFT JOIN\n",
    "        `\"\"\" + os.environ[\"WORKSPACE_CDR\"] + \"\"\".concept` p_sex_at_birth_concept \n",
    "            ON person.sex_at_birth_concept_id = p_sex_at_birth_concept.concept_id  \n",
    "    WHERE\n",
    "        person.PERSON_ID IN (SELECT\n",
    "            distinct person_id  \n",
    "        FROM\n",
    "            `\"\"\" + os.environ[\"WORKSPACE_CDR\"] + \"\"\".cb_search_person` cb_search_person  \n",
    "        WHERE\n",
    "            cb_search_person.person_id IN (SELECT\n",
    "                person_id \n",
    "            FROM\n",
    "                `\"\"\" + os.environ[\"WORKSPACE_CDR\"] + \"\"\".cb_search_person` p \n",
    "            WHERE\n",
    "                has_whole_genome_variant = 1 ) \n",
    "            AND cb_search_person.person_id IN (SELECT\n",
    "                person_id \n",
    "            FROM\n",
    "                `\"\"\" + os.environ[\"WORKSPACE_CDR\"] + \"\"\".cb_search_person` p \n",
    "            WHERE\n",
    "                has_lr_whole_genome_variant = 1 ) \n",
    "            AND cb_search_person.person_id IN (SELECT\n",
    "                person_id \n",
    "            FROM\n",
    "                `\"\"\" + os.environ[\"WORKSPACE_CDR\"] + \"\"\".cb_search_person` p \n",
    "            WHERE\n",
    "                has_structural_variant_data = 1 ) )\"\"\"\n",
    "\n",
    "dataset_51778023_person_df = pandas.read_gbq(\n",
    "    dataset_51778023_person_sql,\n",
    "    dialect=\"standard\",\n",
    "    use_bqstorage_api=(\"BIGQUERY_STORAGE_API_ENABLED\" in os.environ),\n",
    "    progress_bar_type=\"tqdm_notebook\")\n",
    "\n",
    "dataset_51778023_person_df.head(5)"
   ]
  },
  {
   "cell_type": "code",
   "execution_count": 3,
   "metadata": {},
   "outputs": [],
   "source": [
    "with open('sample_names.txt', 'w') as wf:\n",
    "    for sample_name in list(dataset_51778023_person_df.person_id):\n",
    "        wf.write(f'{sample_name}\\n')"
   ]
  },
  {
   "cell_type": "code",
   "execution_count": 4,
   "metadata": {},
   "outputs": [
    {
     "name": "stdout",
     "output_type": "stream",
     "text": [
      "Copying gs://fc-aou-datasets-controlled/v7/wgs/short_read/structural_variants/vcf/AoU_srWGS_SV.vcf.gz...\n",
      "Copying gs://fc-aou-datasets-controlled/v7/wgs/short_read/structural_variants/vcf/AoU_srWGS_SV.vcf.gz.tbi...\n",
      "/ [2 files][  3.1 GiB/  3.1 GiB]   25.7 MiB/s                                   \n",
      "Operation completed over 2 objects/3.1 GiB.                                      \n"
     ]
    }
   ],
   "source": [
    "if not os.path.exists(\"AoU_srWGS_SV.vcf.gz\"):\n",
    "    !gsutil -u $GOOGLE_PROJECT cp gs://fc-aou-datasets-controlled/v7/wgs/short_read/structural_variants/vcf/AoU_srWGS_SV.vcf.gz* ."
   ]
  },
  {
   "cell_type": "code",
   "execution_count": 5,
   "metadata": {},
   "outputs": [
    {
     "name": "stdout",
     "output_type": "stream",
     "text": [
      "989\r\n",
      "[main_vcfview] Error: cannot write to (null)\r\n"
     ]
    }
   ],
   "source": [
    "!bcftools view -S sample_names.txt AoU_srWGS_SV.vcf.gz | grep -m1 '^#CHROM' | sed 's/\\t/\\n/g' | tail -n +10 | wc -l"
   ]
  },
  {
   "cell_type": "code",
   "execution_count": 6,
   "metadata": {},
   "outputs": [],
   "source": [
    "!bcftools view -S sample_names.txt -f \"PASS\" -G -O z -o AoU_srWGS_SV.subset.vcf.gz AoU_srWGS_SV.vcf.gz"
   ]
  },
  {
   "cell_type": "code",
   "execution_count": 7,
   "metadata": {},
   "outputs": [],
   "source": [
    "!tabix -p vcf AoU_srWGS_SV.subset.vcf.gz"
   ]
  },
  {
   "cell_type": "code",
   "execution_count": 8,
   "metadata": {},
   "outputs": [
    {
     "name": "stdout",
     "output_type": "stream",
     "text": [
      "415509\r\n"
     ]
    }
   ],
   "source": [
    "!bcftools view AoU_srWGS_SV.subset.vcf.gz | grep -v '^#' | wc -l"
   ]
  },
  {
   "cell_type": "code",
   "execution_count": 9,
   "metadata": {},
   "outputs": [
    {
     "name": "stdout",
     "output_type": "stream",
     "text": [
      "   5260 <CPX>\n",
      "     21 <CTX>\n",
      " 208527 <DEL>\n",
      "     57 <DEL:ME:HERVK>\n",
      "    751 <DEL:ME:LINE1>\n",
      "  73822 <DUP>\n",
      "  33847 <INS>\n",
      "  73087 <INS:ME:ALU>\n",
      "  11458 <INS:ME:LINE1>\n",
      "   8064 <INS:ME:SVA>\n",
      "    615 <INV>\n"
     ]
    }
   ],
   "source": [
    "!bcftools view AoU_srWGS_SV.subset.vcf.gz | grep -v '^#' | cut -f5 | sort | uniq -c"
   ]
  },
  {
   "cell_type": "code",
   "execution_count": 10,
   "metadata": {},
   "outputs": [
    {
     "name": "stdout",
     "output_type": "stream",
     "text": [
      "   5260 CPX\n",
      "     21 CTX\n",
      " 209335 DEL\n",
      "  73822 DUP\n",
      " 126456 INS\n",
      "    615 INV\n"
     ]
    }
   ],
   "source": [
    "!bcftools view AoU_srWGS_SV.subset.vcf.gz | grep -v '^#' | cut -f5 | sed 's/:.*//g' | sed 's/[<>]//g' | sort | uniq -c"
   ]
  },
  {
   "cell_type": "markdown",
   "metadata": {},
   "source": [
    "<div class=\"alert alert-block alert-danger\">\n",
    "The remainder of this notebook is copied from our internal app.terra.bio production workspace. That data is queued for migration from internal storage to this public Researcher Workbench workspace. Please note that code below may not function properly until the migration is complete.\n",
    "<br/>"
   ]
  },
  {
   "cell_type": "code",
   "execution_count": null,
   "metadata": {},
   "outputs": [],
   "source": []
  }
 ],
 "metadata": {
  "kernelspec": {
   "display_name": "Python 3",
   "language": "python",
   "name": "python3"
  },
  "language_info": {
   "codemirror_mode": {
    "name": "ipython",
    "version": 3
   },
   "file_extension": ".py",
   "mimetype": "text/x-python",
   "name": "python",
   "nbconvert_exporter": "python",
   "pygments_lexer": "ipython3",
   "version": "3.10.12"
  },
  "toc": {
   "base_numbering": 1,
   "nav_menu": {},
   "number_sections": true,
   "sideBar": true,
   "skip_h1_title": false,
   "title_cell": "Table of Contents",
   "title_sidebar": "Contents",
   "toc_cell": false,
   "toc_position": {},
   "toc_section_display": true,
   "toc_window_display": false
  }
 },
 "nbformat": 4,
 "nbformat_minor": 2
}
